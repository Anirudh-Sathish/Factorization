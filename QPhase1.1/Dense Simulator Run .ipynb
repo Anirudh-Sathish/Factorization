{
 "cells": [
  {
   "cell_type": "code",
   "execution_count": 1,
   "id": "ad708fc0",
   "metadata": {},
   "outputs": [],
   "source": [
    "# Checking out different shots for Shor's condesed run \n"
   ]
  },
  {
   "cell_type": "code",
   "execution_count": 2,
   "id": "1af74cde",
   "metadata": {},
   "outputs": [],
   "source": [
    "# Defining the libraries \n",
    "\n",
    "import boto3\n",
    "from braket.circuits import Circuit, circuit\n",
    "from braket.devices import LocalSimulator\n",
    "from braket.aws import AwsDevice\n",
    "import math\n",
    "from fractions import Fraction"
   ]
  },
  {
   "cell_type": "code",
   "execution_count": 3,
   "id": "6a819ee9",
   "metadata": {},
   "outputs": [],
   "source": [
    "def inverse_qft(qubits):\n",
    "    # instantiate circuit object\n",
    "    qftcirc = Circuit()\n",
    "    \n",
    "    # get number of qubits\n",
    "    num_qubits = len(qubits)\n",
    "    \n",
    "    # First add SWAP gates to reverse the order of the qubits:\n",
    "    for i in range(math.floor(num_qubits/2)):\n",
    "        qftcirc.swap(qubits[i], qubits[-i-1])\n",
    "        \n",
    "    # Start on the last qubit and work to the first.\n",
    "    for k in reversed(range(num_qubits)):\n",
    "    \n",
    "        # Apply the controlled rotations, with weights (angles) defined by the distance to the control qubit.\n",
    "        # These angles are the negative of the angle used in the QFT.\n",
    "        # Start on the last qubit and iterate until the qubit after k.  \n",
    "        # When num_qubits==1, this loop does not run.\n",
    "        for j in reversed(range(1, num_qubits - k)):\n",
    "            angle = -2*math.pi/(2**(j+1))\n",
    "            qftcirc.cphaseshift(qubits[k+j],qubits[k], angle)\n",
    "            \n",
    "        # Then add a Hadamard gate\n",
    "        qftcirc.h(qubits[k])\n",
    "    \n",
    "    return qftcirc\n",
    "\n",
    "def CreatePossible_Period_Values(counts):\n",
    "    # Currently there is hard coding , change it later\n",
    "    set_a = set()\n",
    "    for measurement in counts.keys():\n",
    "        decimal = int(measurement, 2)/2**3\n",
    "        r2 = (Fraction(decimal,).limit_denominator())\n",
    "        value = r2.denominator\n",
    "        set_a.add(value)\n",
    "        list_period = []\n",
    "    for ele in set_a:\n",
    "        list_period.append(ele)\n",
    "    list_period.sort()\n",
    "    return list_period\n",
    "def findFactors(list_period):\n",
    "    # Cuurently hard coded change later\n",
    "    factors = set()\n",
    "    for period_possible in list_period:\n",
    "        #Check if even\n",
    "        if(period_possible %2 == 0):\n",
    "            val = period_possible/2\n",
    "            val_1 = 13**val\n",
    "            val_2 = val_1+1\n",
    "            val_3 = val_1-1\n",
    "\n",
    "            val_4 = math.gcd(35,int(val_2))\n",
    "            val_5 = math.gcd(35,int(val_3))\n",
    "            factors.add(val_4)\n",
    "            factors.add(val_5)\n",
    "        else:\n",
    "            continue\n",
    "\n",
    "    factors_list = []\n",
    "    for factor in factors:\n",
    "        if(factor != 1 and factor != 35):\n",
    "            factors_list.append(factor)\n",
    "    return factors_list"
   ]
  },
  {
   "cell_type": "code",
   "execution_count": 4,
   "id": "5bb8a0cf",
   "metadata": {},
   "outputs": [
    {
     "name": "stdout",
     "output_type": "stream",
     "text": [
      "T  : |0|1|2|3|4|5|6|7|8|9|10|11|12|13|14|15|16| 17 |18|     19     |      20      |     21     |22|\n",
      "                                                                                                   \n",
      "q0 : -H-C-C------------------------------------SWAP-------------------PHASE(-0.79)-PHASE(-1.57)-H--\n",
      "        | |                                    |                      |            |               \n",
      "q1 : -H-|-|-C-C-C-C-C-C------------------------|-------PHASE(-1.57)-H-|------------C---------------\n",
      "        | | | | | | | |                        |       |              |                            \n",
      "q2 : -H-|-|-|-|-|-|-|-|-C-C--C--C--C--C--C--C--SWAP-H--C--------------C----------------------------\n",
      "        | | | | | | | | | |  |  |  |  |  |  |                                                      \n",
      "q3 : ---C-X-C-X-C-X-C-X-C-X--C--X--C--X--C--X------------------------------------------------------\n",
      "        |   |   |   |   |    |     |     |                                                         \n",
      "q4 : ---X---X---X---X---X----X-----X-----X---------------------------------------------------------\n",
      "\n",
      "T  : |0|1|2|3|4|5|6|7|8|9|10|11|12|13|14|15|16| 17 |18|     19     |      20      |     21     |22|\n"
     ]
    }
   ],
   "source": [
    "#Creating the circuit for 13^i mod(35)\n",
    "circuit = Circuit()\n",
    "\n",
    "circuit.h(0)\n",
    "circuit.h(1)\n",
    "circuit.h(2)\n",
    "\n",
    "circuit.ccnot(0,3,4)\n",
    "circuit.cnot(0,3)\n",
    "\n",
    "circuit.ccnot(1,3,4)\n",
    "circuit.cnot(1,3)\n",
    "circuit.ccnot(1,3,4)\n",
    "circuit.cnot(1,3)\n",
    "circuit.ccnot(1,3,4)\n",
    "circuit.cnot(1,3)\n",
    "\n",
    "circuit.ccnot(2,3,4)\n",
    "circuit.cnot(2,3)\n",
    "circuit.ccnot(2,3,4)\n",
    "circuit.cnot(2,3)\n",
    "circuit.ccnot(2,3,4)\n",
    "circuit.cnot(2,3)\n",
    "circuit.ccnot(2,3,4)\n",
    "circuit.cnot(2,3)\n",
    "\n",
    "\n",
    "circuit.add_circuit(inverse_qft(range(3)))\n",
    "\n",
    "print(circuit)"
   ]
  },
  {
   "cell_type": "code",
   "execution_count": 5,
   "id": "4ecc8641",
   "metadata": {},
   "outputs": [],
   "source": [
    "# get the account ID\n",
    "aws_account_id = boto3.client(\"sts\").get_caller_identity()[\"Account\"]\n",
    "# the name of the bucket\n",
    "my_bucket = \"DN1-bucket\"\n",
    "# the name of the folder in the bucket\n",
    "my_prefix = \"simulation-output\"\n",
    "s3_folder = (my_bucket, my_prefix)"
   ]
  },
  {
   "cell_type": "code",
   "execution_count": 7,
   "id": "2225a989",
   "metadata": {},
   "outputs": [],
   "source": [
    "# choose the cloud-based on-demand simulator to run your circuit\n",
    "device = AwsDevice(\"arn:aws:braket:::device/quantum-simulator/amazon/dm1\")"
   ]
  },
  {
   "cell_type": "code",
   "execution_count": 8,
   "id": "e0e64bae",
   "metadata": {},
   "outputs": [],
   "source": [
    "result = device.run(circuit, shots=1000).result()\n",
    "counts = result.measurement_counts\n"
   ]
  },
  {
   "cell_type": "code",
   "execution_count": 9,
   "id": "13694651",
   "metadata": {},
   "outputs": [],
   "source": [
    "for measurement in counts.keys():\n",
    "    decimal = int(measurement, 2)/2**3"
   ]
  },
  {
   "cell_type": "code",
   "execution_count": 10,
   "id": "f67f3428",
   "metadata": {},
   "outputs": [
    {
     "name": "stdout",
     "output_type": "stream",
     "text": [
      "[1, 2, 4, 8]\n"
     ]
    }
   ],
   "source": [
    "# Getting possible period values \n",
    "period_Possiblity = CreatePossible_Period_Values(counts)\n",
    "print(period_Possiblity)"
   ]
  },
  {
   "cell_type": "code",
   "execution_count": null,
   "id": "1dc9f855",
   "metadata": {},
   "outputs": [],
   "source": [
    "factors = findFactors(period_Possiblity)\n",
    "print(factors)"
   ]
  }
 ],
 "metadata": {
  "kernelspec": {
   "display_name": "conda_braket",
   "language": "python",
   "name": "conda_braket"
  },
  "language_info": {
   "codemirror_mode": {
    "name": "ipython",
    "version": 3
   },
   "file_extension": ".py",
   "mimetype": "text/x-python",
   "name": "python",
   "nbconvert_exporter": "python",
   "pygments_lexer": "ipython3",
   "version": "3.7.12"
  }
 },
 "nbformat": 4,
 "nbformat_minor": 5
}
